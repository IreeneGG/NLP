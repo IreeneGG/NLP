{
  "nbformat": 4,
  "nbformat_minor": 0,
  "metadata": {
    "colab": {
      "provenance": []
    },
    "kernelspec": {
      "name": "python3",
      "display_name": "Python 3"
    },
    "language_info": {
      "name": "python"
    }
  },
  "cells": [
    {
      "cell_type": "markdown",
      "source": [
        "#COMPARATIVA DE MODELOS Y ENFOQUES"
      ],
      "metadata": {
        "id": "iEm_n3IypCRs"
      }
    },
    {
      "cell_type": "code",
      "source": [
        "!pip install transformers gradio rouge-score bert-score\n"
      ],
      "metadata": {
        "colab": {
          "base_uri": "https://localhost:8080/"
        },
        "id": "vM61PauupeVp",
        "outputId": "220ab66e-7af1-4a21-b1a3-0afb49668660",
        "collapsed": true
      },
      "execution_count": 46,
      "outputs": [
        {
          "output_type": "stream",
          "name": "stdout",
          "text": [
            "Requirement already satisfied: transformers in /usr/local/lib/python3.11/dist-packages (4.51.3)\n",
            "Requirement already satisfied: gradio in /usr/local/lib/python3.11/dist-packages (5.29.1)\n",
            "Requirement already satisfied: rouge-score in /usr/local/lib/python3.11/dist-packages (0.1.2)\n",
            "Requirement already satisfied: bert-score in /usr/local/lib/python3.11/dist-packages (0.3.13)\n",
            "Requirement already satisfied: filelock in /usr/local/lib/python3.11/dist-packages (from transformers) (3.18.0)\n",
            "Requirement already satisfied: huggingface-hub<1.0,>=0.30.0 in /usr/local/lib/python3.11/dist-packages (from transformers) (0.31.2)\n",
            "Requirement already satisfied: numpy>=1.17 in /usr/local/lib/python3.11/dist-packages (from transformers) (2.0.2)\n",
            "Requirement already satisfied: packaging>=20.0 in /usr/local/lib/python3.11/dist-packages (from transformers) (24.2)\n",
            "Requirement already satisfied: pyyaml>=5.1 in /usr/local/lib/python3.11/dist-packages (from transformers) (6.0.2)\n",
            "Requirement already satisfied: regex!=2019.12.17 in /usr/local/lib/python3.11/dist-packages (from transformers) (2024.11.6)\n",
            "Requirement already satisfied: requests in /usr/local/lib/python3.11/dist-packages (from transformers) (2.32.3)\n",
            "Requirement already satisfied: tokenizers<0.22,>=0.21 in /usr/local/lib/python3.11/dist-packages (from transformers) (0.21.1)\n",
            "Requirement already satisfied: safetensors>=0.4.3 in /usr/local/lib/python3.11/dist-packages (from transformers) (0.5.3)\n",
            "Requirement already satisfied: tqdm>=4.27 in /usr/local/lib/python3.11/dist-packages (from transformers) (4.67.1)\n",
            "Requirement already satisfied: aiofiles<25.0,>=22.0 in /usr/local/lib/python3.11/dist-packages (from gradio) (24.1.0)\n",
            "Requirement already satisfied: anyio<5.0,>=3.0 in /usr/local/lib/python3.11/dist-packages (from gradio) (4.9.0)\n",
            "Requirement already satisfied: fastapi<1.0,>=0.115.2 in /usr/local/lib/python3.11/dist-packages (from gradio) (0.115.12)\n",
            "Requirement already satisfied: ffmpy in /usr/local/lib/python3.11/dist-packages (from gradio) (0.5.0)\n",
            "Requirement already satisfied: gradio-client==1.10.1 in /usr/local/lib/python3.11/dist-packages (from gradio) (1.10.1)\n",
            "Requirement already satisfied: groovy~=0.1 in /usr/local/lib/python3.11/dist-packages (from gradio) (0.1.2)\n",
            "Requirement already satisfied: httpx>=0.24.1 in /usr/local/lib/python3.11/dist-packages (from gradio) (0.28.1)\n",
            "Requirement already satisfied: jinja2<4.0 in /usr/local/lib/python3.11/dist-packages (from gradio) (3.1.6)\n",
            "Requirement already satisfied: markupsafe<4.0,>=2.0 in /usr/local/lib/python3.11/dist-packages (from gradio) (3.0.2)\n",
            "Requirement already satisfied: orjson~=3.0 in /usr/local/lib/python3.11/dist-packages (from gradio) (3.10.18)\n",
            "Requirement already satisfied: pandas<3.0,>=1.0 in /usr/local/lib/python3.11/dist-packages (from gradio) (2.2.2)\n",
            "Requirement already satisfied: pillow<12.0,>=8.0 in /usr/local/lib/python3.11/dist-packages (from gradio) (11.2.1)\n",
            "Requirement already satisfied: pydantic<2.12,>=2.0 in /usr/local/lib/python3.11/dist-packages (from gradio) (2.11.4)\n",
            "Requirement already satisfied: pydub in /usr/local/lib/python3.11/dist-packages (from gradio) (0.25.1)\n",
            "Requirement already satisfied: python-multipart>=0.0.18 in /usr/local/lib/python3.11/dist-packages (from gradio) (0.0.20)\n",
            "Requirement already satisfied: ruff>=0.9.3 in /usr/local/lib/python3.11/dist-packages (from gradio) (0.11.10)\n",
            "Requirement already satisfied: safehttpx<0.2.0,>=0.1.6 in /usr/local/lib/python3.11/dist-packages (from gradio) (0.1.6)\n",
            "Requirement already satisfied: semantic-version~=2.0 in /usr/local/lib/python3.11/dist-packages (from gradio) (2.10.0)\n",
            "Requirement already satisfied: starlette<1.0,>=0.40.0 in /usr/local/lib/python3.11/dist-packages (from gradio) (0.46.2)\n",
            "Requirement already satisfied: tomlkit<0.14.0,>=0.12.0 in /usr/local/lib/python3.11/dist-packages (from gradio) (0.13.2)\n",
            "Requirement already satisfied: typer<1.0,>=0.12 in /usr/local/lib/python3.11/dist-packages (from gradio) (0.15.3)\n",
            "Requirement already satisfied: typing-extensions~=4.0 in /usr/local/lib/python3.11/dist-packages (from gradio) (4.13.2)\n",
            "Requirement already satisfied: uvicorn>=0.14.0 in /usr/local/lib/python3.11/dist-packages (from gradio) (0.34.2)\n",
            "Requirement already satisfied: fsspec in /usr/local/lib/python3.11/dist-packages (from gradio-client==1.10.1->gradio) (2025.3.2)\n",
            "Requirement already satisfied: websockets<16.0,>=10.0 in /usr/local/lib/python3.11/dist-packages (from gradio-client==1.10.1->gradio) (15.0.1)\n",
            "Requirement already satisfied: absl-py in /usr/local/lib/python3.11/dist-packages (from rouge-score) (1.4.0)\n",
            "Requirement already satisfied: nltk in /usr/local/lib/python3.11/dist-packages (from rouge-score) (3.9.1)\n",
            "Requirement already satisfied: six>=1.14.0 in /usr/local/lib/python3.11/dist-packages (from rouge-score) (1.17.0)\n",
            "Requirement already satisfied: torch>=1.0.0 in /usr/local/lib/python3.11/dist-packages (from bert-score) (2.6.0+cu124)\n",
            "Requirement already satisfied: matplotlib in /usr/local/lib/python3.11/dist-packages (from bert-score) (3.10.0)\n",
            "Requirement already satisfied: idna>=2.8 in /usr/local/lib/python3.11/dist-packages (from anyio<5.0,>=3.0->gradio) (3.10)\n",
            "Requirement already satisfied: sniffio>=1.1 in /usr/local/lib/python3.11/dist-packages (from anyio<5.0,>=3.0->gradio) (1.3.1)\n",
            "Requirement already satisfied: certifi in /usr/local/lib/python3.11/dist-packages (from httpx>=0.24.1->gradio) (2025.4.26)\n",
            "Requirement already satisfied: httpcore==1.* in /usr/local/lib/python3.11/dist-packages (from httpx>=0.24.1->gradio) (1.0.9)\n",
            "Requirement already satisfied: h11>=0.16 in /usr/local/lib/python3.11/dist-packages (from httpcore==1.*->httpx>=0.24.1->gradio) (0.16.0)\n",
            "Requirement already satisfied: python-dateutil>=2.8.2 in /usr/local/lib/python3.11/dist-packages (from pandas<3.0,>=1.0->gradio) (2.9.0.post0)\n",
            "Requirement already satisfied: pytz>=2020.1 in /usr/local/lib/python3.11/dist-packages (from pandas<3.0,>=1.0->gradio) (2025.2)\n",
            "Requirement already satisfied: tzdata>=2022.7 in /usr/local/lib/python3.11/dist-packages (from pandas<3.0,>=1.0->gradio) (2025.2)\n",
            "Requirement already satisfied: annotated-types>=0.6.0 in /usr/local/lib/python3.11/dist-packages (from pydantic<2.12,>=2.0->gradio) (0.7.0)\n",
            "Requirement already satisfied: pydantic-core==2.33.2 in /usr/local/lib/python3.11/dist-packages (from pydantic<2.12,>=2.0->gradio) (2.33.2)\n",
            "Requirement already satisfied: typing-inspection>=0.4.0 in /usr/local/lib/python3.11/dist-packages (from pydantic<2.12,>=2.0->gradio) (0.4.0)\n",
            "Requirement already satisfied: networkx in /usr/local/lib/python3.11/dist-packages (from torch>=1.0.0->bert-score) (3.4.2)\n",
            "Requirement already satisfied: nvidia-cuda-nvrtc-cu12==12.4.127 in /usr/local/lib/python3.11/dist-packages (from torch>=1.0.0->bert-score) (12.4.127)\n",
            "Requirement already satisfied: nvidia-cuda-runtime-cu12==12.4.127 in /usr/local/lib/python3.11/dist-packages (from torch>=1.0.0->bert-score) (12.4.127)\n",
            "Requirement already satisfied: nvidia-cuda-cupti-cu12==12.4.127 in /usr/local/lib/python3.11/dist-packages (from torch>=1.0.0->bert-score) (12.4.127)\n",
            "Requirement already satisfied: nvidia-cudnn-cu12==9.1.0.70 in /usr/local/lib/python3.11/dist-packages (from torch>=1.0.0->bert-score) (9.1.0.70)\n",
            "Requirement already satisfied: nvidia-cublas-cu12==12.4.5.8 in /usr/local/lib/python3.11/dist-packages (from torch>=1.0.0->bert-score) (12.4.5.8)\n",
            "Requirement already satisfied: nvidia-cufft-cu12==11.2.1.3 in /usr/local/lib/python3.11/dist-packages (from torch>=1.0.0->bert-score) (11.2.1.3)\n",
            "Requirement already satisfied: nvidia-curand-cu12==10.3.5.147 in /usr/local/lib/python3.11/dist-packages (from torch>=1.0.0->bert-score) (10.3.5.147)\n",
            "Requirement already satisfied: nvidia-cusolver-cu12==11.6.1.9 in /usr/local/lib/python3.11/dist-packages (from torch>=1.0.0->bert-score) (11.6.1.9)\n",
            "Requirement already satisfied: nvidia-cusparse-cu12==12.3.1.170 in /usr/local/lib/python3.11/dist-packages (from torch>=1.0.0->bert-score) (12.3.1.170)\n",
            "Requirement already satisfied: nvidia-cusparselt-cu12==0.6.2 in /usr/local/lib/python3.11/dist-packages (from torch>=1.0.0->bert-score) (0.6.2)\n",
            "Requirement already satisfied: nvidia-nccl-cu12==2.21.5 in /usr/local/lib/python3.11/dist-packages (from torch>=1.0.0->bert-score) (2.21.5)\n",
            "Requirement already satisfied: nvidia-nvtx-cu12==12.4.127 in /usr/local/lib/python3.11/dist-packages (from torch>=1.0.0->bert-score) (12.4.127)\n",
            "Requirement already satisfied: nvidia-nvjitlink-cu12==12.4.127 in /usr/local/lib/python3.11/dist-packages (from torch>=1.0.0->bert-score) (12.4.127)\n",
            "Requirement already satisfied: triton==3.2.0 in /usr/local/lib/python3.11/dist-packages (from torch>=1.0.0->bert-score) (3.2.0)\n",
            "Requirement already satisfied: sympy==1.13.1 in /usr/local/lib/python3.11/dist-packages (from torch>=1.0.0->bert-score) (1.13.1)\n",
            "Requirement already satisfied: mpmath<1.4,>=1.1.0 in /usr/local/lib/python3.11/dist-packages (from sympy==1.13.1->torch>=1.0.0->bert-score) (1.3.0)\n",
            "Requirement already satisfied: click>=8.0.0 in /usr/local/lib/python3.11/dist-packages (from typer<1.0,>=0.12->gradio) (8.2.0)\n",
            "Requirement already satisfied: shellingham>=1.3.0 in /usr/local/lib/python3.11/dist-packages (from typer<1.0,>=0.12->gradio) (1.5.4)\n",
            "Requirement already satisfied: rich>=10.11.0 in /usr/local/lib/python3.11/dist-packages (from typer<1.0,>=0.12->gradio) (13.9.4)\n",
            "Requirement already satisfied: contourpy>=1.0.1 in /usr/local/lib/python3.11/dist-packages (from matplotlib->bert-score) (1.3.2)\n",
            "Requirement already satisfied: cycler>=0.10 in /usr/local/lib/python3.11/dist-packages (from matplotlib->bert-score) (0.12.1)\n",
            "Requirement already satisfied: fonttools>=4.22.0 in /usr/local/lib/python3.11/dist-packages (from matplotlib->bert-score) (4.58.0)\n",
            "Requirement already satisfied: kiwisolver>=1.3.1 in /usr/local/lib/python3.11/dist-packages (from matplotlib->bert-score) (1.4.8)\n",
            "Requirement already satisfied: pyparsing>=2.3.1 in /usr/local/lib/python3.11/dist-packages (from matplotlib->bert-score) (3.2.3)\n",
            "Requirement already satisfied: joblib in /usr/local/lib/python3.11/dist-packages (from nltk->rouge-score) (1.5.0)\n",
            "Requirement already satisfied: charset-normalizer<4,>=2 in /usr/local/lib/python3.11/dist-packages (from requests->transformers) (3.4.2)\n",
            "Requirement already satisfied: urllib3<3,>=1.21.1 in /usr/local/lib/python3.11/dist-packages (from requests->transformers) (2.4.0)\n",
            "Requirement already satisfied: markdown-it-py>=2.2.0 in /usr/local/lib/python3.11/dist-packages (from rich>=10.11.0->typer<1.0,>=0.12->gradio) (3.0.0)\n",
            "Requirement already satisfied: pygments<3.0.0,>=2.13.0 in /usr/local/lib/python3.11/dist-packages (from rich>=10.11.0->typer<1.0,>=0.12->gradio) (2.19.1)\n",
            "Requirement already satisfied: mdurl~=0.1 in /usr/local/lib/python3.11/dist-packages (from markdown-it-py>=2.2.0->rich>=10.11.0->typer<1.0,>=0.12->gradio) (0.1.2)\n"
          ]
        }
      ]
    },
    {
      "cell_type": "code",
      "source": [
        "!pip install sumy"
      ],
      "metadata": {
        "colab": {
          "base_uri": "https://localhost:8080/"
        },
        "collapsed": true,
        "id": "8r56zaN7UlEk",
        "outputId": "35a9c57b-df84-4b1b-99e0-9354e87e0372"
      },
      "execution_count": 47,
      "outputs": [
        {
          "output_type": "stream",
          "name": "stdout",
          "text": [
            "Requirement already satisfied: sumy in /usr/local/lib/python3.11/dist-packages (0.11.0)\n",
            "Requirement already satisfied: docopt<0.7,>=0.6.1 in /usr/local/lib/python3.11/dist-packages (from sumy) (0.6.2)\n",
            "Requirement already satisfied: breadability>=0.1.20 in /usr/local/lib/python3.11/dist-packages (from sumy) (0.1.20)\n",
            "Requirement already satisfied: requests>=2.7.0 in /usr/local/lib/python3.11/dist-packages (from sumy) (2.32.3)\n",
            "Requirement already satisfied: pycountry>=18.2.23 in /usr/local/lib/python3.11/dist-packages (from sumy) (24.6.1)\n",
            "Requirement already satisfied: nltk>=3.0.2 in /usr/local/lib/python3.11/dist-packages (from sumy) (3.9.1)\n",
            "Requirement already satisfied: chardet in /usr/local/lib/python3.11/dist-packages (from breadability>=0.1.20->sumy) (5.2.0)\n",
            "Requirement already satisfied: lxml>=2.0 in /usr/local/lib/python3.11/dist-packages (from breadability>=0.1.20->sumy) (5.4.0)\n",
            "Requirement already satisfied: click in /usr/local/lib/python3.11/dist-packages (from nltk>=3.0.2->sumy) (8.2.0)\n",
            "Requirement already satisfied: joblib in /usr/local/lib/python3.11/dist-packages (from nltk>=3.0.2->sumy) (1.5.0)\n",
            "Requirement already satisfied: regex>=2021.8.3 in /usr/local/lib/python3.11/dist-packages (from nltk>=3.0.2->sumy) (2024.11.6)\n",
            "Requirement already satisfied: tqdm in /usr/local/lib/python3.11/dist-packages (from nltk>=3.0.2->sumy) (4.67.1)\n",
            "Requirement already satisfied: charset-normalizer<4,>=2 in /usr/local/lib/python3.11/dist-packages (from requests>=2.7.0->sumy) (3.4.2)\n",
            "Requirement already satisfied: idna<4,>=2.5 in /usr/local/lib/python3.11/dist-packages (from requests>=2.7.0->sumy) (3.10)\n",
            "Requirement already satisfied: urllib3<3,>=1.21.1 in /usr/local/lib/python3.11/dist-packages (from requests>=2.7.0->sumy) (2.4.0)\n",
            "Requirement already satisfied: certifi>=2017.4.17 in /usr/local/lib/python3.11/dist-packages (from requests>=2.7.0->sumy) (2025.4.26)\n"
          ]
        }
      ]
    },
    {
      "cell_type": "markdown",
      "source": [
        "##Cargar modelos"
      ],
      "metadata": {
        "id": "S_tzTCFgpKLc"
      }
    },
    {
      "cell_type": "code",
      "execution_count": 48,
      "metadata": {
        "id": "HNB7KzRPo_k9"
      },
      "outputs": [],
      "source": [
        "import zipfile\n",
        "import os\n",
        "\n",
        "os.makedirs(\"modelo_abs_1\", exist_ok=True)\n",
        "os.makedirs(\"modelo_abs_2\", exist_ok=True)\n",
        "\n",
        "with zipfile.ZipFile(\"modelo_abs_1.zip\", 'r') as zip_ref:\n",
        "    zip_ref.extractall(\"modelo_abs_1\")\n",
        "\n",
        "with zipfile.ZipFile(\"modelo_abs_2.zip\", 'r') as zip_ref:\n",
        "    zip_ref.extractall(\"modelo_abs_2\")\n"
      ]
    },
    {
      "cell_type": "code",
      "source": [
        "import json\n",
        "\n",
        "def corregir_config_modelo(ruta, tipo=\"t5\"):\n",
        "    ruta_config = os.path.join(ruta, \"config.json\")\n",
        "    try:\n",
        "        with open(ruta_config, \"r\") as f:\n",
        "            config = json.load(f)\n",
        "        if \"model_type\" not in config:\n",
        "            config[\"model_type\"] = tipo\n",
        "            with open(ruta_config, \"w\") as f:\n",
        "                json.dump(config, f, indent=2)\n",
        "            print(f\"✅ Corregido: {ruta}\")\n",
        "        else:\n",
        "            print(f\"Ya tenía model_type: {ruta}\")\n",
        "    except FileNotFoundError:\n",
        "        print(f\"No se encontró config.json en {ruta}\")\n"
      ],
      "metadata": {
        "id": "0H7hFLz8rt0X"
      },
      "execution_count": 49,
      "outputs": []
    },
    {
      "cell_type": "code",
      "source": [
        "corregir_config_modelo(\"modelo_abs_1/finetuned_mlsum_es\", tipo=\"t5\")\n",
        "corregir_config_modelo(\"modelo_abs_2/finetuned_mlsum_es\", tipo=\"t5\")\n",
        "\n"
      ],
      "metadata": {
        "colab": {
          "base_uri": "https://localhost:8080/"
        },
        "id": "CKcrQA5r0eHn",
        "outputId": "725f554e-2b35-4e65-d41d-3036fdc2a91f"
      },
      "execution_count": 50,
      "outputs": [
        {
          "output_type": "stream",
          "name": "stdout",
          "text": [
            "Ya tenía model_type: modelo_abs_1/finetuned_mlsum_es\n",
            "Ya tenía model_type: modelo_abs_2/finetuned_mlsum_es\n"
          ]
        }
      ]
    },
    {
      "cell_type": "code",
      "source": [
        "from transformers import pipeline\n",
        "\n",
        "abstractivo_modelo_1 = pipeline(\n",
        "    \"summarization\",\n",
        "    model=\"modelo_abs_1/finetuned_mlsum_es\",\n",
        "    tokenizer=\"modelo_abs_1/finetuned_mlsum_es\"\n",
        ")\n",
        "\n",
        "abstractivo_modelo_2 = pipeline(\n",
        "    \"summarization\",\n",
        "    model=\"modelo_abs_2/finetuned_mlsum_es\",\n",
        "    tokenizer=\"modelo_abs_2/finetuned_mlsum_es\"\n",
        ")\n",
        "# Modelo 3: Preentrenado sin fine-tuning (XLSum)\n",
        "abstractivo_modelo_3 = pipeline(\n",
        "    \"summarization\",\n",
        "    model=\"csebuetnlp/mt5_multilingual_XLSum\",\n",
        "    tokenizer=\"csebuetnlp/mt5_multilingual_XLSum\",\n",
        "    framework=\"pt\",\n",
        "    device=0\n",
        ")"
      ],
      "metadata": {
        "id": "6szxaaV4tvuY",
        "colab": {
          "base_uri": "https://localhost:8080/"
        },
        "outputId": "08bc61b5-63c1-47cc-ae82-bfcc6d275c87"
      },
      "execution_count": 51,
      "outputs": [
        {
          "output_type": "stream",
          "name": "stderr",
          "text": [
            "Device set to use cpu\n",
            "Device set to use cpu\n",
            "/usr/local/lib/python3.11/dist-packages/transformers/convert_slow_tokenizer.py:559: UserWarning: The sentencepiece tokenizer that you are converting to a fast tokenizer uses the byte fallback option which is not implemented in the fast tokenizers. In practice this means that the fast version of the tokenizer can produce unknown tokens whereas the sentencepiece version would have converted these unknown tokens into a sequence of byte tokens matching the original piece of text.\n",
            "  warnings.warn(\n",
            "Device set to use cpu\n"
          ]
        }
      ]
    },
    {
      "cell_type": "markdown",
      "source": [
        "## Enfoque extractivo"
      ],
      "metadata": {
        "id": "zS0CIswJGZjW"
      }
    },
    {
      "cell_type": "markdown",
      "source": [
        "##Métricas"
      ],
      "metadata": {
        "id": "cHKyu5llpWmI"
      }
    },
    {
      "cell_type": "code",
      "source": [
        "from rouge_score import rouge_scorer\n",
        "from bert_score import score as bert_score\n",
        "import numpy as np\n",
        "import re\n",
        "from nltk.tokenize import sent_tokenize\n",
        "from sklearn.feature_extraction.text import TfidfVectorizer\n",
        "from sklearn.feature_extraction.text import CountVectorizer\n",
        "from sumy.parsers.plaintext import PlaintextParser\n",
        "from sumy.nlp.tokenizers import Tokenizer\n",
        "from sumy.summarizers.text_rank import TextRankSummarizer\n",
        "from sumy.nlp.stemmers import Stemmer\n",
        "from sumy.utils import get_stop_words\n",
        "import nltk\n",
        "import networkx as nx\n",
        "from nltk.corpus import stopwords\n",
        "\n",
        "\n",
        "nltk.download('punkt')\n",
        "nltk.download('punkt_tab')\n",
        "nltk.download(\"stopwords\")\n",
        "\n",
        "LANGUAGE = \"spanish\"\n",
        "\n",
        "\n",
        "scorer = rouge_scorer.RougeScorer(['rouge1', 'rouge2', 'rougeL'], use_stemmer=True)\n",
        "\n",
        "def limpieza_basica(texto):\n",
        "    texto = re.sub(r'\\[\\d+\\]', '', texto)\n",
        "    texto = re.sub(r'==.*?==', '', texto)\n",
        "    texto = re.sub(r'\\n+', ' ', texto)\n",
        "    return texto.strip()\n",
        "\n",
        "def calcular_rouge(texto, resumen):\n",
        "    scores = scorer.score(texto, resumen)\n",
        "    return \"\\n\".join([f\"{k}: {round(v.fmeasure, 3)}\" for k, v in scores.items()])\n",
        "\n",
        "def calcular_bertscore(texto, resumen):\n",
        "    P, R, F1 = bert_score([resumen], [texto], lang='es', model_type='xlm-roberta-large')\n",
        "    return f\"Precision: {P[0]:.3f}\\nRecall: {R[0]:.3f}\\nF1: {F1[0]:.3f}\"\n",
        "\n",
        "def calcular_compresion(texto, resumen):\n",
        "    len_texto = len(texto.split())\n",
        "    len_resumen = len(resumen.split())\n",
        "    return f\"{len_resumen / len_texto:.2f}\" if len_texto > 0 else \"0.00\"\n",
        "\n",
        "# Resumen extractivo con TF-IDF\n",
        "def resumen_extractivo_tfidf(texto, n_frases=3):\n",
        "    frases = sent_tokenize(texto, language='spanish')\n",
        "    if len(frases) <= n_frases:\n",
        "        return \" \".join(frases)\n",
        "\n",
        "    vectorizer = TfidfVectorizer()\n",
        "    tfidf_matrix = vectorizer.fit_transform(frases)\n",
        "    scores = np.sum(tfidf_matrix.toarray(), axis=1)\n",
        "    frases_idx = np.argsort(scores)[-n_frases:]\n",
        "    resumen = [frases[i] for i in sorted(frases_idx)]\n",
        "    return \" \".join(resumen)\n",
        "\n",
        "# Resumen extractivo con enfoque LEAD-3\n",
        "def resumen_lead(texto, n_frases=3):\n",
        "    frases = sent_tokenize(texto, language=\"spanish\")\n",
        "    resumen = frases[:n_frases]\n",
        "    return \" \".join(resumen)\n",
        "\n",
        "def resumen_luhn(texto, n_frases=3):\n",
        "    frases = sent_tokenize(texto, language=\"spanish\")\n",
        "    if len(frases) <= n_frases:\n",
        "        return \" \".join(frases)\n",
        "\n",
        "    stopwords_es = stopwords.words(\"spanish\")\n",
        "    vectorizer = CountVectorizer(stop_words=stopwords_es)\n",
        "    X = vectorizer.fit_transform(frases)\n",
        "    palabra_freq = X.toarray().sum(axis=0)\n",
        "    importantes = np.argsort(palabra_freq)[-20:]\n",
        "    vocabulario_importante = set(np.array(vectorizer.get_feature_names_out())[importantes])\n",
        "\n",
        "    puntuaciones = []\n",
        "    for frase in frases:\n",
        "        palabras = re.findall(r\"\\b\\w+\\b\", frase.lower())\n",
        "        bloques = []\n",
        "        bloque = []\n",
        "        for palabra in palabras:\n",
        "            if palabra in vocabulario_importante:\n",
        "                bloque.append(palabra)\n",
        "            elif bloque:\n",
        "                bloques.append(bloque)\n",
        "                bloque = []\n",
        "        if bloque:\n",
        "            bloques.append(bloque)\n",
        "        puntaje = max([(len(b)**2) / (len(b) + 1) for b in bloques], default=0)\n",
        "        puntuaciones.append(puntaje)\n",
        "\n",
        "    idx_top = np.argsort(puntuaciones)[-n_frases:]\n",
        "    resumen = [frases[i] for i in sorted(idx_top)]\n",
        "    return \" \".join(resumen)\n",
        "\n",
        "\n",
        "def resumen_textrank(texto, n_frases=3):\n",
        "    parser = PlaintextParser.from_string(texto, Tokenizer(LANGUAGE))\n",
        "    stemmer = Stemmer(LANGUAGE)\n",
        "    summarizer = TextRankSummarizer(stemmer)\n",
        "    summarizer.stop_words = get_stop_words(LANGUAGE)\n",
        "\n",
        "    resumen = summarizer(parser.document, n_frases)\n",
        "    return \" \".join(str(oracion) for oracion in resumen)\n",
        "\n",
        "def resumen_textrank_tfidf(texto, n_frases=3):\n",
        "    frases = sent_tokenize(texto, language=\"spanish\")\n",
        "    if len(frases) <= n_frases:\n",
        "        return \" \".join(frases)\n",
        "\n",
        "    # Vectorización TF-IDF por frase\n",
        "    vectorizer = TfidfVectorizer()\n",
        "    tfidf_matrix = vectorizer.fit_transform(frases)\n",
        "\n",
        "    # Calcular matriz de similitud (coseno)\n",
        "    sim_matrix = (tfidf_matrix * tfidf_matrix.T).toarray()\n",
        "\n",
        "    # Crear grafo con NetworkX\n",
        "    grafo = nx.from_numpy_array(sim_matrix)\n",
        "    puntuaciones = nx.pagerank(grafo)\n",
        "\n",
        "    # Seleccionar las frases con mayor puntaje\n",
        "    frases_idx = sorted(puntuaciones, key=puntuaciones.get, reverse=True)[:n_frases]\n",
        "    resumen = [frases[i] for i in sorted(frases_idx)]\n",
        "    return \" \".join(resumen)\n",
        "\n"
      ],
      "metadata": {
        "id": "v1-9HCHnpkFf",
        "colab": {
          "base_uri": "https://localhost:8080/"
        },
        "outputId": "f15bc3d6-b8ca-4052-afe3-eab37c1a208d"
      },
      "execution_count": 52,
      "outputs": [
        {
          "output_type": "stream",
          "name": "stderr",
          "text": [
            "[nltk_data] Downloading package punkt to /root/nltk_data...\n",
            "[nltk_data]   Package punkt is already up-to-date!\n",
            "[nltk_data] Downloading package punkt_tab to /root/nltk_data...\n",
            "[nltk_data]   Package punkt_tab is already up-to-date!\n",
            "[nltk_data] Downloading package stopwords to /root/nltk_data...\n",
            "[nltk_data]   Package stopwords is already up-to-date!\n"
          ]
        }
      ]
    },
    {
      "cell_type": "code",
      "source": [
        "def resumen_comparado(texto):\n",
        "    texto_limpio = limpieza_basica(texto)\n",
        "\n",
        "    resumen_1 = abstractivo_modelo_1(texto_limpio, max_length=256, min_length=60, do_sample=False)[0]['summary_text']\n",
        "    resumen_2 = abstractivo_modelo_2(texto_limpio, max_length=256, min_length=60, do_sample=False)[0]['summary_text']\n",
        "    resumen_3 = abstractivo_modelo_3(texto_limpio, max_length=256, min_length=60, do_sample=False)[0]['summary_text']\n",
        "    resumen_ext = resumen_extractivo_tfidf(texto_limpio, n_frases=3)\n",
        "    resumen_lead3 = resumen_lead(texto_limpio, n_frases=3)\n",
        "    resumen_luhn_ = resumen_luhn(texto_limpio, n_frases=3)\n",
        "    resumen_textrank_ = resumen_textrank(texto_limpio, n_frases=3)\n",
        "    resumen_textrank_tfidf_ = resumen_textrank_tfidf(texto_limpio, n_frases=3)\n",
        "\n",
        "    resultados = []\n",
        "    for resumen in [resumen_1, resumen_2, resumen_3, resumen_ext, resumen_lead3, resumen_luhn_, resumen_textrank_, resumen_textrank_tfidf_]:\n",
        "        rouge = calcular_rouge(texto_limpio, resumen)\n",
        "        bert = calcular_bertscore(texto_limpio, resumen)\n",
        "        comp = calcular_compresion(texto_limpio, resumen)\n",
        "        resultados.extend([resumen, rouge, bert, f\"Tasa de compresión: {comp}\"])\n",
        "\n",
        "    return tuple(resultados)\n"
      ],
      "metadata": {
        "id": "FClDfnVtpWMY"
      },
      "execution_count": 53,
      "outputs": []
    },
    {
      "cell_type": "markdown",
      "source": [
        "##Interfaz Gradio"
      ],
      "metadata": {
        "id": "g3FWl0XIpnsv"
      }
    },
    {
      "cell_type": "code",
      "source": [
        "!pip install gradio\n"
      ],
      "metadata": {
        "id": "TkJiBTZYpr9n",
        "colab": {
          "base_uri": "https://localhost:8080/"
        },
        "collapsed": true,
        "outputId": "b3b95375-4c3c-46d2-9eb0-20dfe368a645"
      },
      "execution_count": 54,
      "outputs": [
        {
          "output_type": "stream",
          "name": "stdout",
          "text": [
            "Requirement already satisfied: gradio in /usr/local/lib/python3.11/dist-packages (5.29.1)\n",
            "Requirement already satisfied: aiofiles<25.0,>=22.0 in /usr/local/lib/python3.11/dist-packages (from gradio) (24.1.0)\n",
            "Requirement already satisfied: anyio<5.0,>=3.0 in /usr/local/lib/python3.11/dist-packages (from gradio) (4.9.0)\n",
            "Requirement already satisfied: fastapi<1.0,>=0.115.2 in /usr/local/lib/python3.11/dist-packages (from gradio) (0.115.12)\n",
            "Requirement already satisfied: ffmpy in /usr/local/lib/python3.11/dist-packages (from gradio) (0.5.0)\n",
            "Requirement already satisfied: gradio-client==1.10.1 in /usr/local/lib/python3.11/dist-packages (from gradio) (1.10.1)\n",
            "Requirement already satisfied: groovy~=0.1 in /usr/local/lib/python3.11/dist-packages (from gradio) (0.1.2)\n",
            "Requirement already satisfied: httpx>=0.24.1 in /usr/local/lib/python3.11/dist-packages (from gradio) (0.28.1)\n",
            "Requirement already satisfied: huggingface-hub>=0.28.1 in /usr/local/lib/python3.11/dist-packages (from gradio) (0.31.2)\n",
            "Requirement already satisfied: jinja2<4.0 in /usr/local/lib/python3.11/dist-packages (from gradio) (3.1.6)\n",
            "Requirement already satisfied: markupsafe<4.0,>=2.0 in /usr/local/lib/python3.11/dist-packages (from gradio) (3.0.2)\n",
            "Requirement already satisfied: numpy<3.0,>=1.0 in /usr/local/lib/python3.11/dist-packages (from gradio) (2.0.2)\n",
            "Requirement already satisfied: orjson~=3.0 in /usr/local/lib/python3.11/dist-packages (from gradio) (3.10.18)\n",
            "Requirement already satisfied: packaging in /usr/local/lib/python3.11/dist-packages (from gradio) (24.2)\n",
            "Requirement already satisfied: pandas<3.0,>=1.0 in /usr/local/lib/python3.11/dist-packages (from gradio) (2.2.2)\n",
            "Requirement already satisfied: pillow<12.0,>=8.0 in /usr/local/lib/python3.11/dist-packages (from gradio) (11.2.1)\n",
            "Requirement already satisfied: pydantic<2.12,>=2.0 in /usr/local/lib/python3.11/dist-packages (from gradio) (2.11.4)\n",
            "Requirement already satisfied: pydub in /usr/local/lib/python3.11/dist-packages (from gradio) (0.25.1)\n",
            "Requirement already satisfied: python-multipart>=0.0.18 in /usr/local/lib/python3.11/dist-packages (from gradio) (0.0.20)\n",
            "Requirement already satisfied: pyyaml<7.0,>=5.0 in /usr/local/lib/python3.11/dist-packages (from gradio) (6.0.2)\n",
            "Requirement already satisfied: ruff>=0.9.3 in /usr/local/lib/python3.11/dist-packages (from gradio) (0.11.10)\n",
            "Requirement already satisfied: safehttpx<0.2.0,>=0.1.6 in /usr/local/lib/python3.11/dist-packages (from gradio) (0.1.6)\n",
            "Requirement already satisfied: semantic-version~=2.0 in /usr/local/lib/python3.11/dist-packages (from gradio) (2.10.0)\n",
            "Requirement already satisfied: starlette<1.0,>=0.40.0 in /usr/local/lib/python3.11/dist-packages (from gradio) (0.46.2)\n",
            "Requirement already satisfied: tomlkit<0.14.0,>=0.12.0 in /usr/local/lib/python3.11/dist-packages (from gradio) (0.13.2)\n",
            "Requirement already satisfied: typer<1.0,>=0.12 in /usr/local/lib/python3.11/dist-packages (from gradio) (0.15.3)\n",
            "Requirement already satisfied: typing-extensions~=4.0 in /usr/local/lib/python3.11/dist-packages (from gradio) (4.13.2)\n",
            "Requirement already satisfied: uvicorn>=0.14.0 in /usr/local/lib/python3.11/dist-packages (from gradio) (0.34.2)\n",
            "Requirement already satisfied: fsspec in /usr/local/lib/python3.11/dist-packages (from gradio-client==1.10.1->gradio) (2025.3.2)\n",
            "Requirement already satisfied: websockets<16.0,>=10.0 in /usr/local/lib/python3.11/dist-packages (from gradio-client==1.10.1->gradio) (15.0.1)\n",
            "Requirement already satisfied: idna>=2.8 in /usr/local/lib/python3.11/dist-packages (from anyio<5.0,>=3.0->gradio) (3.10)\n",
            "Requirement already satisfied: sniffio>=1.1 in /usr/local/lib/python3.11/dist-packages (from anyio<5.0,>=3.0->gradio) (1.3.1)\n",
            "Requirement already satisfied: certifi in /usr/local/lib/python3.11/dist-packages (from httpx>=0.24.1->gradio) (2025.4.26)\n",
            "Requirement already satisfied: httpcore==1.* in /usr/local/lib/python3.11/dist-packages (from httpx>=0.24.1->gradio) (1.0.9)\n",
            "Requirement already satisfied: h11>=0.16 in /usr/local/lib/python3.11/dist-packages (from httpcore==1.*->httpx>=0.24.1->gradio) (0.16.0)\n",
            "Requirement already satisfied: filelock in /usr/local/lib/python3.11/dist-packages (from huggingface-hub>=0.28.1->gradio) (3.18.0)\n",
            "Requirement already satisfied: requests in /usr/local/lib/python3.11/dist-packages (from huggingface-hub>=0.28.1->gradio) (2.32.3)\n",
            "Requirement already satisfied: tqdm>=4.42.1 in /usr/local/lib/python3.11/dist-packages (from huggingface-hub>=0.28.1->gradio) (4.67.1)\n",
            "Requirement already satisfied: python-dateutil>=2.8.2 in /usr/local/lib/python3.11/dist-packages (from pandas<3.0,>=1.0->gradio) (2.9.0.post0)\n",
            "Requirement already satisfied: pytz>=2020.1 in /usr/local/lib/python3.11/dist-packages (from pandas<3.0,>=1.0->gradio) (2025.2)\n",
            "Requirement already satisfied: tzdata>=2022.7 in /usr/local/lib/python3.11/dist-packages (from pandas<3.0,>=1.0->gradio) (2025.2)\n",
            "Requirement already satisfied: annotated-types>=0.6.0 in /usr/local/lib/python3.11/dist-packages (from pydantic<2.12,>=2.0->gradio) (0.7.0)\n",
            "Requirement already satisfied: pydantic-core==2.33.2 in /usr/local/lib/python3.11/dist-packages (from pydantic<2.12,>=2.0->gradio) (2.33.2)\n",
            "Requirement already satisfied: typing-inspection>=0.4.0 in /usr/local/lib/python3.11/dist-packages (from pydantic<2.12,>=2.0->gradio) (0.4.0)\n",
            "Requirement already satisfied: click>=8.0.0 in /usr/local/lib/python3.11/dist-packages (from typer<1.0,>=0.12->gradio) (8.2.0)\n",
            "Requirement already satisfied: shellingham>=1.3.0 in /usr/local/lib/python3.11/dist-packages (from typer<1.0,>=0.12->gradio) (1.5.4)\n",
            "Requirement already satisfied: rich>=10.11.0 in /usr/local/lib/python3.11/dist-packages (from typer<1.0,>=0.12->gradio) (13.9.4)\n",
            "Requirement already satisfied: six>=1.5 in /usr/local/lib/python3.11/dist-packages (from python-dateutil>=2.8.2->pandas<3.0,>=1.0->gradio) (1.17.0)\n",
            "Requirement already satisfied: markdown-it-py>=2.2.0 in /usr/local/lib/python3.11/dist-packages (from rich>=10.11.0->typer<1.0,>=0.12->gradio) (3.0.0)\n",
            "Requirement already satisfied: pygments<3.0.0,>=2.13.0 in /usr/local/lib/python3.11/dist-packages (from rich>=10.11.0->typer<1.0,>=0.12->gradio) (2.19.1)\n",
            "Requirement already satisfied: charset-normalizer<4,>=2 in /usr/local/lib/python3.11/dist-packages (from requests->huggingface-hub>=0.28.1->gradio) (3.4.2)\n",
            "Requirement already satisfied: urllib3<3,>=1.21.1 in /usr/local/lib/python3.11/dist-packages (from requests->huggingface-hub>=0.28.1->gradio) (2.4.0)\n",
            "Requirement already satisfied: mdurl~=0.1 in /usr/local/lib/python3.11/dist-packages (from markdown-it-py>=2.2.0->rich>=10.11.0->typer<1.0,>=0.12->gradio) (0.1.2)\n"
          ]
        }
      ]
    },
    {
      "cell_type": "code",
      "source": [
        "import gradio as gr\n",
        "iface = gr.Interface(\n",
        "    fn=resumen_comparado,\n",
        "    inputs=gr.Textbox(lines=15, placeholder=\"Introduce aquí el texto largo a resumir...\"),\n",
        "    outputs=[\n",
        "        gr.Textbox(label=\"Resumen Modelo 1\"),\n",
        "        gr.Textbox(label=\"ROUGE Modelo 1\"),\n",
        "        gr.Textbox(label=\"BERTScore Modelo 1\"),\n",
        "        gr.Textbox(label=\"Compresión Modelo 1\"),\n",
        "\n",
        "        gr.Textbox(label=\"Resumen Modelo 2\"),\n",
        "        gr.Textbox(label=\"ROUGE Modelo 2\"),\n",
        "        gr.Textbox(label=\"BERTScore Modelo 2\"),\n",
        "        gr.Textbox(label=\"Compresión Modelo 2\"),\n",
        "\n",
        "        gr.Textbox(label=\"Resumen Modelo 3 (XLSum)\"),\n",
        "        gr.Textbox(label=\"ROUGE Modelo 3\"),\n",
        "        gr.Textbox(label=\"BERTScore Modelo 3\"),\n",
        "        gr.Textbox(label=\"Compresión Modelo 3\"),\n",
        "\n",
        "        gr.Textbox(label=\"Resumen Extractivo LEAD-3\"),\n",
        "        gr.Textbox(label=\"ROUGE LEAD-3\"),\n",
        "        gr.Textbox(label=\"BERTScore LEAD-3\"),\n",
        "        gr.Textbox(label=\"Compresión LEAD-3\"),\n",
        "\n",
        "        gr.Textbox(label=\"Resumen Extractivo Luhn\"),\n",
        "        gr.Textbox(label=\"ROUGE Luhn\"),\n",
        "        gr.Textbox(label=\"BERTScore Luhn\"),\n",
        "        gr.Textbox(label=\"Compresión Luhn\"),\n",
        "\n",
        "        gr.Textbox(label=\"Resumen Extractivo TF-IDF\"),\n",
        "        gr.Textbox(label=\"ROUGE TF-IDF\"),\n",
        "        gr.Textbox(label=\"BERTScore TF-IDF\"),\n",
        "        gr.Textbox(label=\"Compresión TF-IDF\"),\n",
        "\n",
        "        gr.Textbox(label=\"Resumen Extractivo TextRank\"),\n",
        "        gr.Textbox(label=\"ROUGE TextRank\"),\n",
        "        gr.Textbox(label=\"BERTScore TextRank\"),\n",
        "        gr.Textbox(label=\"Compresión TextRank\"),\n",
        "\n",
        "        gr.Textbox(label=\"Resumen Extractivo TextRank-TFIDF\"),\n",
        "        gr.Textbox(label=\"ROUGE TextRank-TFIDF\"),\n",
        "        gr.Textbox(label=\"BERTScore TextRank-TFIDF\"),\n",
        "        gr.Textbox(label=\"Compresión TextRank-TFIDF\"),\n",
        "\n",
        "    ],\n",
        "    title=\"Comparador de Resúmenes Abstractivos y Extractivos\",\n",
        "    description=\"Introduce un texto en español y compara cómo resumen tres modelos abstractivos y dos enfoques extractivos (TF-IDF y LEAD-3).\"\n",
        ")\n",
        "\n",
        "iface.launch(debug=True)\n",
        "\n"
      ],
      "metadata": {
        "id": "ahIY_9UVpp7z",
        "colab": {
          "base_uri": "https://localhost:8080/",
          "height": 680
        },
        "outputId": "38dbc17f-825b-4760-b476-fb03a360ab83"
      },
      "execution_count": 55,
      "outputs": [
        {
          "output_type": "stream",
          "name": "stdout",
          "text": [
            "It looks like you are running Gradio on a hosted a Jupyter notebook. For the Gradio app to work, sharing must be enabled. Automatically setting `share=True` (you can turn this off by setting `share=False` in `launch()` explicitly).\n",
            "\n",
            "Colab notebook detected. This cell will run indefinitely so that you can see errors and logs. To turn off, set debug=False in launch().\n",
            "* Running on public URL: https://7561b2fc1d72a21c2f.gradio.live\n",
            "\n",
            "This share link expires in 1 week. For free permanent hosting and GPU upgrades, run `gradio deploy` from the terminal in the working directory to deploy to Hugging Face Spaces (https://huggingface.co/spaces)\n"
          ]
        },
        {
          "output_type": "display_data",
          "data": {
            "text/plain": [
              "<IPython.core.display.HTML object>"
            ],
            "text/html": [
              "<div><iframe src=\"https://7561b2fc1d72a21c2f.gradio.live\" width=\"100%\" height=\"500\" allow=\"autoplay; camera; microphone; clipboard-read; clipboard-write;\" frameborder=\"0\" allowfullscreen></iframe></div>"
            ]
          },
          "metadata": {}
        },
        {
          "output_type": "stream",
          "name": "stdout",
          "text": [
            "Keyboard interruption in main thread... closing server.\n",
            "Killing tunnel 127.0.0.1:7860 <> https://7561b2fc1d72a21c2f.gradio.live\n"
          ]
        },
        {
          "output_type": "execute_result",
          "data": {
            "text/plain": []
          },
          "metadata": {},
          "execution_count": 55
        }
      ]
    }
  ]
}